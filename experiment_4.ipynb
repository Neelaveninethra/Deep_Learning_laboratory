{
  "nbformat": 4,
  "nbformat_minor": 0,
  "metadata": {
    "colab": {
      "provenance": [],
      "authorship_tag": "ABX9TyMlRmzlsP+EAAjfSPj0epnX",
      "include_colab_link": true
    },
    "kernelspec": {
      "name": "python3",
      "display_name": "Python 3"
    },
    "language_info": {
      "name": "python"
    }
  },
  "cells": [
    {
      "cell_type": "markdown",
      "metadata": {
        "id": "view-in-github",
        "colab_type": "text"
      },
      "source": [
        "<a href=\"https://colab.research.google.com/github/Neelaveninethra/Deep_Learning_laboratory/blob/main/experiment_4.ipynb\" target=\"_parent\"><img src=\"https://colab.research.google.com/assets/colab-badge.svg\" alt=\"Open In Colab\"/></a>"
      ]
    },
    {
      "cell_type": "code",
      "execution_count": 24,
      "metadata": {
        "id": "-n4f0QxSSkb2"
      },
      "outputs": [],
      "source": [
        "##Build a three-layer Artificial Neural Network by implementing the Back propagation algorithm\n",
        "import numpy as np\n"
      ]
    },
    {
      "cell_type": "code",
      "source": [
        "def sigmoid(x):\n",
        "  return 1/(1+np.exp(-x))"
      ],
      "metadata": {
        "id": "bjZkFtixSvht"
      },
      "execution_count": 25,
      "outputs": []
    },
    {
      "cell_type": "code",
      "source": [
        "def sigmoid_derivative(x):\n",
        "  return x*(1-x)"
      ],
      "metadata": {
        "id": "3ZWZgXJGS5hs"
      },
      "execution_count": 34,
      "outputs": []
    },
    {
      "cell_type": "code",
      "source": [
        "input_size=2\n",
        "hidden_size=3\n",
        "output_size=1\n",
        "learning_rate=0.1"
      ],
      "metadata": {
        "id": "3KQGeWVUTLUk"
      },
      "execution_count": 27,
      "outputs": []
    },
    {
      "cell_type": "code",
      "source": [
        "weights_input_hidden = np.random.rand(input_size,hidden_size)\n",
        "weights_input_hidden"
      ],
      "metadata": {
        "colab": {
          "base_uri": "https://localhost:8080/"
        },
        "id": "SZaAwdiCTYjs",
        "outputId": "2bcf4ca1-627d-44fa-a16c-870b484a4d4d"
      },
      "execution_count": 28,
      "outputs": [
        {
          "output_type": "execute_result",
          "data": {
            "text/plain": [
              "array([[0.0781095 , 0.81799685, 0.52913404],\n",
              "       [0.48319556, 0.55894234, 0.61480357]])"
            ]
          },
          "metadata": {},
          "execution_count": 28
        }
      ]
    },
    {
      "cell_type": "code",
      "source": [
        "biases_hidden = np.zeros((1,hidden_size))\n",
        "biases_hidden"
      ],
      "metadata": {
        "colab": {
          "base_uri": "https://localhost:8080/"
        },
        "id": "fXwcFT6FTo00",
        "outputId": "8e81eba0-8ed0-44be-8b59-4f74ca3c702f"
      },
      "execution_count": 29,
      "outputs": [
        {
          "output_type": "execute_result",
          "data": {
            "text/plain": [
              "array([[0., 0., 0.]])"
            ]
          },
          "metadata": {},
          "execution_count": 29
        }
      ]
    },
    {
      "cell_type": "code",
      "source": [
        "weights_hidden_output = np.random.rand(hidden_size,output_size)\n",
        "weights_hidden_output"
      ],
      "metadata": {
        "colab": {
          "base_uri": "https://localhost:8080/"
        },
        "id": "SDm0kqK1T2U9",
        "outputId": "40281aba-c038-41ed-ef00-2fb04a045223"
      },
      "execution_count": 30,
      "outputs": [
        {
          "output_type": "execute_result",
          "data": {
            "text/plain": [
              "array([[0.74855899],\n",
              "       [0.60961619],\n",
              "       [0.04147732]])"
            ]
          },
          "metadata": {},
          "execution_count": 30
        }
      ]
    },
    {
      "cell_type": "code",
      "source": [
        "biases_output = np.zeros((1,output_size))\n",
        "biases_output"
      ],
      "metadata": {
        "colab": {
          "base_uri": "https://localhost:8080/"
        },
        "id": "o-TDW5XPULBt",
        "outputId": "9c961ca2-29dd-49a5-c0b8-fac003c2ee4f"
      },
      "execution_count": 31,
      "outputs": [
        {
          "output_type": "execute_result",
          "data": {
            "text/plain": [
              "array([[0.]])"
            ]
          },
          "metadata": {},
          "execution_count": 31
        }
      ]
    },
    {
      "cell_type": "code",
      "source": [
        "X=np.array([[0,0],[0,1],[1,0],[1,1]])\n",
        "Y=np.array([[0],[1],[1],[0]])"
      ],
      "metadata": {
        "id": "7oLgI1A9UbSH"
      },
      "execution_count": 32,
      "outputs": []
    },
    {
      "cell_type": "code",
      "source": [
        "epochs=10000\n",
        "for epoch in range(epochs):\n",
        "  hidden_layer_input = np.dot(X,weights_input_hidden)+biases_hidden\n",
        "  hidden_layer_output = sigmoid(hidden_layer_input)\n",
        "  output_layer_input = np.dot(hidden_layer_output,weights_hidden_output)+biases_output\n",
        "  predicted_output = sigmoid(output_layer_input)\n",
        "  loss = 0.5*np.mean((Y-predicted_output)**2)\n",
        "  output_error = Y-predicted_output\n",
        "  output_delta = output_error*sigmoid_derivative(predicted_output)\n",
        "  hidden_layer_error = output_delta.dot(weights_hidden_output.T)\n",
        "  hidden_layer_delta = hidden_layer_error * sigmoid_derivative(hidden_layer_output)\n",
        "  weights_hidden_output+= hidden_layer_output.T.dot(output_delta)*learning_rate\n",
        "  biases_output+=np.sum(output_delta,axis=0,keepdims=True)*learning_rate\n",
        "  weights_input_hidden+=X.T.dot(hidden_layer_delta)*learning_rate\n",
        "  biases_hidden += np.sum(hidden_layer_delta, axis=0, keepdims=True) * learning_rate\n",
        "  if epoch % 1000 == 0:\n",
        "    print(f\"Epoch {epoch}, Loss: {loss}\")\n",
        "\n",
        "\n",
        "\n"
      ],
      "metadata": {
        "id": "EY_BaNx2UyK_",
        "colab": {
          "base_uri": "https://localhost:8080/"
        },
        "outputId": "a5bd3507-6529-45dd-d75d-2682ed5d8a16"
      },
      "execution_count": 36,
      "outputs": [
        {
          "output_type": "stream",
          "name": "stdout",
          "text": [
            "Epoch 0, Loss: 0.14460118474780978\n",
            "Epoch 1000, Loss: 0.12277167171064934\n",
            "Epoch 2000, Loss: 0.1059087997385616\n",
            "Epoch 3000, Loss: 0.06863762397699377\n",
            "Epoch 4000, Loss: 0.01892575106680599\n",
            "Epoch 5000, Loss: 0.007206967146106769\n",
            "Epoch 6000, Loss: 0.0040644106365536736\n",
            "Epoch 7000, Loss: 0.0027461649083545857\n",
            "Epoch 8000, Loss: 0.002045155178028935\n",
            "Epoch 9000, Loss: 0.0016169617405139415\n"
          ]
        }
      ]
    },
    {
      "cell_type": "code",
      "source": [
        "test_input = np.array([[0,0],[0,1],[1,0],[1,1]])"
      ],
      "metadata": {
        "id": "7jhi-b3EpG7x"
      },
      "execution_count": 37,
      "outputs": []
    },
    {
      "cell_type": "code",
      "source": [
        "hidden_layer_input_test = np.dot(test_input,weights_input_hidden)+biases_hidden\n"
      ],
      "metadata": {
        "id": "xG8xAEN8qMpw"
      },
      "execution_count": 38,
      "outputs": []
    },
    {
      "cell_type": "code",
      "source": [
        "hidden_layer_output_test = sigmoid(hidden_layer_input_test)"
      ],
      "metadata": {
        "id": "SJmC_QpXqZOL"
      },
      "execution_count": 40,
      "outputs": []
    },
    {
      "cell_type": "code",
      "source": [
        "output_layer_input_test = np.dot(hidden_layer_output_test,weights_hidden_output)+biases_output"
      ],
      "metadata": {
        "id": "4ZY0qpZVqohW"
      },
      "execution_count": 41,
      "outputs": []
    },
    {
      "cell_type": "code",
      "source": [
        "predicted_output_test = sigmoid(output_layer_input_test)"
      ],
      "metadata": {
        "id": "Yjl6YbP8rCBs"
      },
      "execution_count": 42,
      "outputs": []
    },
    {
      "cell_type": "code",
      "source": [
        "print(\"\\n predicted output after trainingL:\")\n",
        "print(predicted_output_test)"
      ],
      "metadata": {
        "colab": {
          "base_uri": "https://localhost:8080/"
        },
        "id": "VCNX-9rurKYi",
        "outputId": "00a5f7d4-6513-4ccd-a65b-eb5ebd16385f"
      },
      "execution_count": 43,
      "outputs": [
        {
          "output_type": "stream",
          "name": "stdout",
          "text": [
            "\n",
            " predicted output after trainingL:\n",
            "[[0.05379581]\n",
            " [0.94951483]\n",
            " [0.95117793]\n",
            " [0.05310619]]\n"
          ]
        }
      ]
    },
    {
      "cell_type": "code",
      "source": [],
      "metadata": {
        "id": "miMH6rBwrVYI"
      },
      "execution_count": null,
      "outputs": []
    }
  ]
}